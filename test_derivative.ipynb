{
 "cells": [
  {
   "cell_type": "code",
   "execution_count": 1,
   "id": "4c91167d-1f0c-4f51-9687-167969f0ed89",
   "metadata": {},
   "outputs": [],
   "source": [
    "from model import *\n",
    "from pde import *\n",
    "from derivative import *\n",
    "from residual import *"
   ]
  },
  {
   "cell_type": "code",
   "execution_count": 2,
   "id": "86255caa-1b1a-41cc-a2fa-2da28440abc3",
   "metadata": {},
   "outputs": [],
   "source": [
    "key = jax.random.PRNGKey(123)\n",
    "model = PINN(key)\n",
    "d = Derivative()"
   ]
  },
  {
   "cell_type": "code",
   "execution_count": 3,
   "id": "aded59c5-6fe3-4f0d-8294-44b334d243f4",
   "metadata": {},
   "outputs": [],
   "source": [
    "x = jnp.arange(10)/10.0\n",
    "t = jnp.arange(10)/10.0"
   ]
  },
  {
   "cell_type": "code",
   "execution_count": 4,
   "id": "05db291c-07f2-4fac-9a8a-e07774199c78",
   "metadata": {},
   "outputs": [
    {
     "data": {
      "text/plain": [
       "Array([0.26176221, 0.2622055 , 0.26260259, 0.26295337, 0.26326489,\n",
       "       0.26355026, 0.26382633, 0.26411083, 0.26441964, 0.26476475],      dtype=float64)"
      ]
     },
     "execution_count": 4,
     "metadata": {},
     "output_type": "execute_result"
    }
   ],
   "source": [
    "d.phi(model,x,t)"
   ]
  },
  {
   "cell_type": "code",
   "execution_count": 5,
   "id": "1ab862b3-aae4-48a2-baa8-c403d8d742ff",
   "metadata": {},
   "outputs": [
    {
     "data": {
      "text/plain": [
       "Array([0.28754603, 0.28555064, 0.28347884, 0.2813346 , 0.27912441,\n",
       "       0.27685736, 0.27454513, 0.27220177, 0.26984341, 0.2674877 ],      dtype=float64)"
      ]
     },
     "execution_count": 5,
     "metadata": {},
     "output_type": "execute_result"
    }
   ],
   "source": [
    "d.phi(model,1,t)"
   ]
  },
  {
   "cell_type": "code",
   "execution_count": 6,
   "id": "2fa2a2ee-addd-4e8f-ae16-f4465a18d59e",
   "metadata": {},
   "outputs": [
    {
     "data": {
      "text/plain": [
       "Array([0.23462789, 0.23788314, 0.24112048, 0.24432626, 0.24748872,\n",
       "       0.25059823, 0.25364741, 0.25663087, 0.25954478, 0.26238633],      dtype=float64)"
      ]
     },
     "execution_count": 6,
     "metadata": {},
     "output_type": "execute_result"
    }
   ],
   "source": [
    "d.phi(model,x,1)"
   ]
  },
  {
   "cell_type": "code",
   "execution_count": 7,
   "id": "8818510e-bb8a-405f-8d44-b367a5c28564",
   "metadata": {},
   "outputs": [
    {
     "data": {
      "text/plain": [
       "Array(0.26515321, dtype=float64)"
      ]
     },
     "execution_count": 7,
     "metadata": {},
     "output_type": "execute_result"
    }
   ],
   "source": [
    "d.phi(model,1,1)"
   ]
  },
  {
   "cell_type": "code",
   "execution_count": 9,
   "id": "7955fe4a-7c37-430e-8d18-de4b886fd698",
   "metadata": {},
   "outputs": [
    {
     "data": {
      "text/plain": [
       "{'phi': Array([0.26176221, 0.2622055 , 0.26260259, 0.26295337, 0.26326489,\n",
       "        0.26355026, 0.26382633, 0.26411083, 0.26441964, 0.26476475],      dtype=float64),\n",
       " 'c': Array([-0.03540194, -0.03861464, -0.04206976, -0.04564288, -0.04922042,\n",
       "        -0.05270728, -0.05603095, -0.05914191, -0.06201156, -0.0646285 ],      dtype=float64),\n",
       " 'phi_t': Array([-0.02954998, -0.02915039, -0.02870908, -0.02821688, -0.02766323,\n",
       "        -0.02704145, -0.02635198, -0.02560338, -0.02481112, -0.02399496],      dtype=float64),\n",
       " 'phi_x': Array([0.03419634, 0.03335839, 0.03244256, 0.031511  , 0.03062177,\n",
       "        0.02981882, 0.02912602, 0.02854622, 0.02806468, 0.02765535],      dtype=float64),\n",
       " 'phi_2x': Array([-0.01256258, -0.01369042, -0.01424319, -0.0142135 , -0.0136764 ,\n",
       "        -0.01276878, -0.0116555 , -0.01049373, -0.00940564, -0.00846482],      dtype=float64),\n",
       " 'c_t': Array([0.02559289, 0.02426503, 0.02310659, 0.02211205, 0.02125813,\n",
       "        0.02051365, 0.01984779, 0.01923528, 0.01865869, 0.01810825],      dtype=float64),\n",
       " 'c_x': Array([-0.05608751, -0.05781538, -0.05844933, -0.05804122, -0.05672051,\n",
       "        -0.05466767, -0.05208492, -0.04917028, -0.04609851, -0.04301046],      dtype=float64),\n",
       " 'c_2x': Array([-0.00646215,  0.00314952,  0.01264575,  0.02127876,  0.02847275,\n",
       "         0.03388679,  0.03742347,  0.0391924 ,  0.03944639,  0.03851079],      dtype=float64)}"
      ]
     },
     "execution_count": 9,
     "metadata": {},
     "output_type": "execute_result"
    }
   ],
   "source": [
    "d.evaluate(model,x,t,['phi','c','phi_t','phi_x','phi_2x','c_t','c_x','c_2x'])"
   ]
  },
  {
   "cell_type": "code",
   "execution_count": null,
   "id": "d356e067-1636-483c-ab2c-b9bc6743a0b5",
   "metadata": {},
   "outputs": [],
   "source": []
  }
 ],
 "metadata": {
  "kernelspec": {
   "display_name": "Python 3 (ipykernel)",
   "language": "python",
   "name": "python3"
  },
  "language_info": {
   "codemirror_mode": {
    "name": "ipython",
    "version": 3
   },
   "file_extension": ".py",
   "mimetype": "text/x-python",
   "name": "python",
   "nbconvert_exporter": "python",
   "pygments_lexer": "ipython3",
   "version": "3.10.18"
  }
 },
 "nbformat": 4,
 "nbformat_minor": 5
}
