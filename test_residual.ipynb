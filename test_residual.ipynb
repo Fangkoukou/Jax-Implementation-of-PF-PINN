{
 "cells": [
  {
   "cell_type": "code",
   "execution_count": 1,
   "id": "4c91167d-1f0c-4f51-9687-167969f0ed89",
   "metadata": {},
   "outputs": [],
   "source": [
    "from model import *\n",
    "from pde import *\n",
    "from derivative import *\n",
    "from residual import *\n",
    "from params import *"
   ]
  },
  {
   "cell_type": "code",
   "execution_count": 2,
   "id": "86255caa-1b1a-41cc-a2fa-2da28440abc3",
   "metadata": {},
   "outputs": [],
   "source": [
    "key = jax.random.PRNGKey(123)\n",
    "model = PINN(key)\n",
    "derivative = Derivative(x_coef,t_coef)\n",
    "pde = PDE(\n",
    "    alpha_phi=alpha_phi,\n",
    "    omega_phi=omega_phi,\n",
    "    M=M,\n",
    "    A=A,\n",
    "    L=L,\n",
    "    c_se=c_se,\n",
    "    c_le=c_le,\n",
    ")\n",
    "r = Residual(x_coef,t_coef,pde,derivative)"
   ]
  },
  {
   "cell_type": "code",
   "execution_count": 3,
   "id": "aded59c5-6fe3-4f0d-8294-44b334d243f4",
   "metadata": {},
   "outputs": [],
   "source": [
    "x = jnp.arange(10)/10.0\n",
    "t = jnp.arange(10)/10.0"
   ]
  },
  {
   "cell_type": "code",
   "execution_count": 4,
   "id": "d356e067-1636-483c-ab2c-b9bc6743a0b5",
   "metadata": {},
   "outputs": [
    {
     "data": {
      "text/plain": [
       "{'ic': Array([-0.23823779,  0.2622055 ,  0.26260259,  0.26295337,  0.26326489,\n",
       "         0.26355026,  0.26382633,  0.26411083,  0.26441964,  0.26476475,\n",
       "        -0.53540194, -0.03861464, -0.04206976, -0.04564288, -0.04922042,\n",
       "        -0.05270728, -0.05603095, -0.05914191, -0.06201156, -0.0646285 ],      dtype=float64)}"
      ]
     },
     "execution_count": 4,
     "metadata": {},
     "output_type": "execute_result"
    }
   ],
   "source": [
    "r.res_ic(model,x,t)"
   ]
  },
  {
   "cell_type": "code",
   "execution_count": 5,
   "id": "4354f81d-9c9e-40dc-87b1-6b74a0b535e3",
   "metadata": {},
   "outputs": [
    {
     "data": {
      "text/plain": [
       "{'bc': Array([-2.38237790e-01,  9.99762206e+02,  1.99976260e+03,  2.99976295e+03,\n",
       "         3.99976326e+03,  4.99976355e+03,  5.99976383e+03,  6.99976411e+03,\n",
       "         7.99976442e+03,  8.99976476e+03, -5.35401936e-01,  9.99461385e+02,\n",
       "         1.99945793e+03,  2.99945436e+03,  3.99945078e+03,  4.99944729e+03,\n",
       "         5.99944397e+03,  6.99944086e+03,  7.99943799e+03,  8.99943537e+03],      dtype=float64)}"
      ]
     },
     "execution_count": 5,
     "metadata": {},
     "output_type": "execute_result"
    }
   ],
   "source": [
    "r.res_bc(model,x,t)"
   ]
  },
  {
   "cell_type": "code",
   "execution_count": 6,
   "id": "d5e77d1c-4814-4ca1-91c0-76e2f1230daa",
   "metadata": {},
   "outputs": [
    {
     "data": {
      "text/plain": [
       "{'ac': Array([0.00031112, 0.00031585, 0.00032079, 0.00032578, 0.00033071,\n",
       "        0.00033548, 0.00034005, 0.00034438, 0.00034848, 0.00035236],      dtype=float64),\n",
       " 'ch': Array([-0.00037037, -0.00130973, -0.00218534, -0.00293175, -0.00350621,\n",
       "        -0.00389223, -0.00409706, -0.00414515, -0.00406997, -0.00390668],      dtype=float64)}"
      ]
     },
     "execution_count": 6,
     "metadata": {},
     "output_type": "execute_result"
    }
   ],
   "source": [
    "r.res_phys(model,x,t)"
   ]
  },
  {
   "cell_type": "code",
   "execution_count": 8,
   "id": "aac13638-940d-4573-aab0-3498ab16803a",
   "metadata": {},
   "outputs": [],
   "source": [
    "x_dict = {'ic':x,'bc':x,'colloc':x,'adapt':x}\n",
    "t_dict = {'ic':t,'bc':t,'colloc':t,'adapt':t}"
   ]
  },
  {
   "cell_type": "code",
   "execution_count": 9,
   "id": "6564ba85-7df1-4a17-a3e6-ec75dab81022",
   "metadata": {},
   "outputs": [
    {
     "data": {
      "text/plain": [
       "{'ic': Array(0.04968087, dtype=float64),\n",
       " 'bc': Array(28496433.08224288, dtype=float64),\n",
       " 'ac': Array(1.10734733e-07, dtype=float64),\n",
       " 'ch': Array(1.0846143e-05, dtype=float64)}"
      ]
     },
     "execution_count": 9,
     "metadata": {},
     "output_type": "execute_result"
    }
   ],
   "source": [
    "r.compute_loss(model,x_dict,t_dict)"
   ]
  },
  {
   "cell_type": "code",
   "execution_count": 11,
   "id": "c7e3b17d-3f80-4389-bf31-f18e63aab45d",
   "metadata": {},
   "outputs": [
    {
     "data": {
      "text/plain": [
       "(Array([0.9, 0.8, 0.7, 0.7, 0.6, 0.8], dtype=float64, weak_type=True),\n",
       " Array([0.9, 0.8, 0.7, 0.7, 0.6, 0.8], dtype=float64, weak_type=True))"
      ]
     },
     "execution_count": 11,
     "metadata": {},
     "output_type": "execute_result"
    }
   ],
   "source": [
    "r.get_noisy_points(model,x,t,6)"
   ]
  },
  {
   "cell_type": "code",
   "execution_count": 13,
   "id": "f77ccac6-2102-4660-8865-af9d7d7e925f",
   "metadata": {},
   "outputs": [
    {
     "data": {
      "text/plain": [
       "{'ic': Array(2.00048761, dtype=float64),\n",
       " 'bc': Array(2.00048761, dtype=float64),\n",
       " 'ac': Array(698339.09989741, dtype=float64),\n",
       " 'ch': Array(4126.89538644, dtype=float64)}"
      ]
     },
     "execution_count": 13,
     "metadata": {},
     "output_type": "execute_result"
    }
   ],
   "source": [
    "r.compute_ntk_weights(model,x_dict,t_dict)"
   ]
  },
  {
   "cell_type": "code",
   "execution_count": null,
   "id": "073fcbf2-194a-4904-9c33-c0eb78a11d80",
   "metadata": {},
   "outputs": [],
   "source": []
  }
 ],
 "metadata": {
  "kernelspec": {
   "display_name": "Python 3 (ipykernel)",
   "language": "python",
   "name": "python3"
  },
  "language_info": {
   "codemirror_mode": {
    "name": "ipython",
    "version": 3
   },
   "file_extension": ".py",
   "mimetype": "text/x-python",
   "name": "python",
   "nbconvert_exporter": "python",
   "pygments_lexer": "ipython3",
   "version": "3.10.18"
  }
 },
 "nbformat": 4,
 "nbformat_minor": 5
}
