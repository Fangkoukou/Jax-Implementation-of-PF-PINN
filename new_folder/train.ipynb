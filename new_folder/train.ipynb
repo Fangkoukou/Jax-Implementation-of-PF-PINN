{
 "cells": [
  {
   "cell_type": "code",
   "execution_count": 1,
   "id": "a892ec39-2ee4-4354-8c7c-ebdbc636c349",
   "metadata": {},
   "outputs": [
    {
     "name": "stdout",
     "output_type": "stream",
     "text": [
      "env: XLA_PYTHON_CLIENT_ALLOCATOR=platform\n"
     ]
    }
   ],
   "source": [
    "%env XLA_PYTHON_CLIENT_ALLOCATOR=platform"
   ]
  },
  {
   "cell_type": "code",
   "execution_count": 2,
   "id": "08941964-5f24-4f25-9b9d-0198b1026cd5",
   "metadata": {},
   "outputs": [],
   "source": [
    "import os\n",
    "import jax\n",
    "import time\n",
    "import optax\n",
    "import numpy as np\n",
    "import equinox as eqx\n",
    "import matplotlib as mpl\n",
    "import matplotlib.pyplot as plt\n",
    "from jax import numpy as jnp, random, config\n",
    "from model import PINN\n",
    "from pde import PDE\n",
    "from pdekernel import PDEKernel\n",
    "from derivative import Derivative\n",
    "from residual import Residual\n",
    "from sampler import Sampler\n",
    "from matplotlib.animation import FuncAnimation\n",
    "from IPython.display import HTML, display\n",
    "from util import subset, map_span\n",
    "# config\n",
    "config.update(\"jax_enable_x64\", True)\n",
    "key = random.PRNGKey(1312)\n",
    "key, subkey = random.split(key)"
   ]
  },
  {
   "cell_type": "code",
   "execution_count": 3,
   "id": "5f5fd730-db1a-4e7e-89bb-799c72c3eea3",
   "metadata": {},
   "outputs": [],
   "source": [
    "params0 = {\n",
    "    \"alpha_phi\": 9.62e-5,\n",
    "    \"omega_phi\": 1.663e7,\n",
    "    \"M\": 8.5e-10 / (2 * 5.35e7),\n",
    "    \"A\": 5.35e7,\n",
    "    \"L\": 1e-11,\n",
    "    \"c_se\": 1.0,\n",
    "    \"c_le\": 5100/1.43e5,\n",
    "    \"x_range\": (-50e-6, 50e-6),\n",
    "    \"t_range\": (0, 1e5),\n",
    "    \"nx\": 128,\n",
    "    \"nt\": 128,\n",
    "    \"dc\": 1.0-5100/1.43e5,\n",
    "}\n",
    "pde = PDE(**params0)\n",
    "x_out, t_out, phi_out, c_out = pde.solve()\n",
    "key, subkey = random.split(key)\n",
    "X_out, T_out = jnp.meshgrid(x_out,t_out)\n",
    "x_valid, t_valid, phi_valid, c_valid  = subset(subkey, 800, X_out.ravel(), T_out.ravel(), phi_out.ravel(), c_out.ravel())\n",
    "x_valid = map_span(x_valid, params0[\"x_range\"], (-0.5,0.5))\n",
    "t_valid = map_span(t_valid, params0[\"t_range\"], (0,1))"
   ]
  },
  {
   "cell_type": "code",
   "execution_count": 4,
   "id": "fc4f54d3-2007-4fe8-9d77-bbf5573d0c3c",
   "metadata": {},
   "outputs": [],
   "source": [
    "# set up the dimensionless PDE\n",
    "params1 = {\n",
    "    \"alpha_phi\": 9.62e-5,\n",
    "    \"omega_phi\": 1.663e7,\n",
    "    \"A\": 5.35e7,\n",
    "    \"c_se\": 1.0,\n",
    "    \"c_le\": 5100/1.43e5,\n",
    "    \"x_range_phys\": (-50e-6, 50e-6),\n",
    "    \"t_range_phys\": (0, 1e5),\n",
    "    \"L\": 1e-11,\n",
    "    \"M\": 8.5e-10 / (2 * 5.35e7),\n",
    "    \"dc\": 1.0-5100/1.43e5\n",
    "}\n",
    "pdekernel = PDEKernel(params1)"
   ]
  },
  {
   "cell_type": "code",
   "execution_count": 5,
   "id": "f12c5cdd-d978-493b-8fb0-a986cdc619cd",
   "metadata": {},
   "outputs": [],
   "source": [
    "# set up the model\n",
    "inp_idx = {'x':0, 't':1}\n",
    "out_idx = {'phi':0, 'c':1}\n",
    "width = 16\n",
    "depth = 4\n",
    "model = PINN(inp_idx, out_idx, width, depth)"
   ]
  },
  {
   "cell_type": "code",
   "execution_count": 6,
   "id": "9953128b-827d-45a5-9026-122688505e96",
   "metadata": {},
   "outputs": [],
   "source": [
    "# set up derivative\n",
    "phys_span = {'x':pdekernel.x_range_phys, 't':pdekernel.t_range_phys} # the physical span is now a dimensionless span\n",
    "norm_span = {'x':(-0.5,0.5), 't':(0,1)}\n",
    "d = Derivative(inp_idx, out_idx, phys_span, norm_span)\n",
    "d.create_deriv_fn('phi_t')\n",
    "d.create_deriv_fn('phi_x')\n",
    "d.create_deriv_fn('phi_2x')\n",
    "d.create_deriv_fn('c_t')\n",
    "d.create_deriv_fn('c_x')\n",
    "d.create_deriv_fn('c_2x')"
   ]
  },
  {
   "cell_type": "code",
   "execution_count": 7,
   "id": "bc3d097a-5e1a-49ac-b9fd-84c1bb0958d9",
   "metadata": {},
   "outputs": [],
   "source": [
    "# set up sampler\n",
    "s = Sampler()\n",
    "\n",
    "def newsample(key, n):\n",
    "    keys = random.split(key,5)\n",
    "    inp = {k: {} for k in ['ic', 'bc', 'colloc','data']}\n",
    "    inp['ic']['x'] = s.get_sample(keys[0],[30,40,30],[(-0.5,-0.1),(-0.1,0.1),(0.1,0.5)])\n",
    "    inp['ic']['t'] = s.get_sample(keys[0],[100],[(0,0)])\n",
    "    inp['bc']['x'] = s.get_sample(keys[1],[50,50],[(-0.5,-0.5),(0.5,0.5)])\n",
    "    inp['bc']['t'] = jnp.tile(s.get_sample(keys[1],[50],[(0,1)]), (2,))\n",
    "    x_colloc = s.get_sample(keys[2],[32],[(-0.5,0.5)])\n",
    "    t_colloc = s.get_sample(keys[3],[32],[(0,1)])\n",
    "    X_colloc, T_colloc = jnp.meshgrid(x_colloc,t_colloc)\n",
    "    inp['colloc']['x'], inp['colloc']['t'] = X_colloc.ravel(), T_colloc.ravel()\n",
    "    x_sub, t_sub, phi_sub, c_sub = subset(keys[4],500,x_valid, t_valid, phi_valid, c_valid)\n",
    "    inp['data']['x'] = x_sub\n",
    "    inp['data']['t'] = t_sub\n",
    "    inp['data']['phi'] = phi_sub\n",
    "    inp['data']['c'] = c_sub \n",
    "    return inp\n",
    "\n",
    "def subsample(key, sample):\n",
    "    keys = random.split(key,4)\n",
    "    size = {'ic':30, 'bc':30, 'colloc':64, 'data': 64}\n",
    "    inp = {k: {} for k in ['ic', 'bc', 'colloc','data']}\n",
    "    inp['ic']['x'], inp['ic']['t'] = subset(keys[0], size['ic'], sample['ic']['x'], sample['ic']['t'])\n",
    "    inp['bc']['x'], inp['bc']['t'] = subset(keys[1], size['bc'], sample['bc']['x'], sample['bc']['t'])\n",
    "    inp['colloc']['x'], inp['colloc']['t'] = subset(keys[2], size['colloc'], sample['colloc']['x'], sample['colloc']['t'])\n",
    "    inp['data']['x'], inp['data']['t'] = subset(keys[3], size['data'], sample['data']['x'], sample['data']['t'])\n",
    "    inp['data']['phi'], inp['data']['c'] = subset(keys[3], size['data'], sample['data']['phi'], sample['data']['c'])\n",
    "    return inp\n",
    "\n",
    "key, subkey = random.split(key)\n",
    "sample = newsample(subkey, 0)"
   ]
  },
  {
   "cell_type": "code",
   "execution_count": 9,
   "id": "1ef137dc-7dc9-40b1-9b75-f46d66108ab0",
   "metadata": {},
   "outputs": [
    {
     "data": {
      "text/plain": [
       "{'ic': Array(0.64240354, dtype=float32),\n",
       " 'bc': Array(0.6700173, dtype=float32),\n",
       " 'ac': Array(1.7689746e-07, dtype=float32),\n",
       " 'ch': Array(1.406211e-05, dtype=float32),\n",
       " 'data': Array(0.5383481, dtype=float32)}"
      ]
     },
     "execution_count": 9,
     "metadata": {},
     "output_type": "execute_result"
    }
   ],
   "source": [
    "# set up the residual\n",
    "r = Residual(phys_span, norm_span, pdekernel, d)\n",
    "r.compute_loss(model,sample)"
   ]
  },
  {
   "cell_type": "code",
   "execution_count": 10,
   "id": "21dbaa57-f728-43bb-a8fb-c7143af34390",
   "metadata": {},
   "outputs": [
    {
     "data": {
      "text/plain": [
       "{'ic': Array(3.04635072, dtype=float64),\n",
       " 'bc': Array(2.96848802, dtype=float64),\n",
       " 'ac': Array(749149.86470046, dtype=float64),\n",
       " 'ch': Array(9861.79145273, dtype=float64),\n",
       " 'data': Array(2.98718066, dtype=float64)}"
      ]
     },
     "execution_count": 10,
     "metadata": {},
     "output_type": "execute_result"
    }
   ],
   "source": [
    "r.compute_ntk_weights(model,sample)"
   ]
  },
  {
   "cell_type": "code",
   "execution_count": 11,
   "id": "009d6966-c1c6-4e23-9f63-87daf42aca28",
   "metadata": {},
   "outputs": [],
   "source": [
    "# initialize the hyper parameters\n",
    "total_step = 10000   # Total training steps\n",
    "sp1 = 50  # Resampling frequency\n",
    "sp2 = 50  # NTK weighting frequency\n",
    "sp3 = 2000 # log frequency\n",
    "\n",
    "# initialize the optimizer\n",
    "max_grad_norm = 100.0\n",
    "optimizer = optax.chain(\n",
    "    optax.clip_by_global_norm(max_grad_norm),\n",
    "    optax.adam(1e-3),\n",
    ")\n",
    "params, static = eqx.partition(model, eqx.is_inexact_array)\n",
    "opt_state = optimizer.init(params)\n",
    "\n",
    "# initialize the weight\n",
    "weight_dict = {'ic':1.0, 'bc':1.0, 'ch':1.0, 'ac':1.0, 'data':1.0}\n",
    "# initialize the carry\n",
    "init = (subkey, 0, sample, weight_dict, params, opt_state, jnp.inf, params)"
   ]
  },
  {
   "cell_type": "code",
   "execution_count": 12,
   "id": "05bda501-02eb-4dab-8550-e587417ec184",
   "metadata": {},
   "outputs": [],
   "source": [
    "def log_fn(step, weight_dict, loss_dict):\n",
    "    weight_arr = jnp.array([weight_dict[k] for k in ['ic', 'bc', 'ac', 'ch', 'data']])\n",
    "    loss_arr = jnp.array([loss_dict[k] for k in ['ic','bc','ac','ch','data']])\n",
    "    total_loss = jnp.dot(weight_arr, loss_arr)\n",
    "\n",
    "    jax.debug.print(\n",
    "        (\n",
    "            \"Step {}: total_loss = {:.4e}\\n\"\n",
    "            \"  Loss  ['ic', 'bc', 'ac', 'ch', 'data'] = [{:.4e},{:.4e},{:.4e},{:.4e},{:.4e}]\\n\"\n",
    "            \"  Weight     ['ic', 'bc', 'ac', 'ch', 'data'] = [{:.4e},{:.4e},{:.4e},{:.4e},{:.4e}]\"\n",
    "        ),\n",
    "        step, total_loss,\n",
    "        loss_arr[0], loss_arr[1], loss_arr[2], loss_arr[3],loss_arr[4],\n",
    "        weight_arr[0], weight_arr[1], weight_arr[2], weight_arr[3],weight_arr[4]\n",
    "    )"
   ]
  },
  {
   "cell_type": "code",
   "execution_count": 13,
   "id": "8f620ef4-dbbf-4494-9b13-f9439cd0e7e7",
   "metadata": {},
   "outputs": [],
   "source": [
    "def train_step(carry, _):\n",
    "    \"\"\"\n",
    "    Performs a single training step, including resampling, NTK weight updates,\n",
    "    loss calculation, and parameter optimization.\n",
    "    \"\"\"\n",
    "    # 1. Unpack state and prepare for the current step\n",
    "    key, step, sample, weight_dict, params, opt_state, best_loss, best_params = carry\n",
    "    key, subkey1, subkey2 = jax.random.split(key, 3)\n",
    "    \n",
    "    # 2. Resample collocation points periodically based on model residuals\n",
    "    sample = jax.lax.cond(\n",
    "        step % sp1 == 0,\n",
    "        lambda _: newsample(subkey1, step),\n",
    "        lambda _: sample,\n",
    "        operand = None,\n",
    "    )\n",
    "\n",
    "    # 3. Update NTK weights periodically using a memory-efficient scan\n",
    "    def update_weight(key, step):\n",
    "        model_temp = eqx.combine(params, static)\n",
    "        return r.compute_ntk_weights(model_temp, subsample(key, sample), batch_size = 64)\n",
    "\n",
    "    weight_dict = jax.lax.cond(\n",
    "        step % sp2 == 0,\n",
    "        lambda _: update_weight(subkey2, step),\n",
    "        lambda _: weight_dict,\n",
    "        operand = None,\n",
    "    )\n",
    "\n",
    "    # 4. Compute the main loss and its gradients\n",
    "    def loss_fn(params, static, sample, weight_dict):\n",
    "        model_temp = eqx.combine(params, static)\n",
    "        loss_dict = r.compute_loss(model_temp,sample)\n",
    "        weight_arr = jnp.array([weight_dict[k] for k in ['ic', 'bc', 'ac', 'ch']])\n",
    "        loss_arr = jnp.array([loss_dict[k] for k in ['ic','bc','ac','ch']])\n",
    "        total_loss = jnp.dot(weight_arr, loss_arr)\n",
    "\n",
    "        return total_loss, loss_dict\n",
    "\n",
    "    (loss, loss_dict), grads = jax.value_and_grad(loss_fn, has_aux=True)(\n",
    "        params, static, sample, weight_dict\n",
    "    )\n",
    "    \n",
    "    log_this = step % sp3 == 0\n",
    "    def _log():\n",
    "        log_fn(step, weight_dict, loss_dict)\n",
    "    jax.lax.cond(log_this, _log, lambda: None)\n",
    "    \n",
    "    # 5. Apply updates to the optimizer state and model parameters\n",
    "    updates, opt_state = optimizer.update(grads, opt_state)\n",
    "    params = optax.apply_updates(params, updates)\n",
    "\n",
    "    # 6. Track the best performing parameters\n",
    "    best_loss, best_params = jax.lax.cond(\n",
    "        loss < best_loss,\n",
    "        lambda _: (loss, params),\n",
    "        lambda _: (best_loss, best_params),\n",
    "        operand = None,\n",
    "    )\n",
    "\n",
    "    # 7. Return the updated carry for the next training step\n",
    "    new_carry = (key, step + 1, sample, weight_dict, params, opt_state, best_loss, best_params)\n",
    "    return new_carry, loss_dict"
   ]
  },
  {
   "cell_type": "code",
   "execution_count": 14,
   "id": "70453769-8094-46b3-9571-6e81bf6c85ef",
   "metadata": {},
   "outputs": [
    {
     "name": "stdout",
     "output_type": "stream",
     "text": [
      "Step 0: total_loss = 5.8819e+00\n",
      "  Loss  ['ic', 'bc', 'ac', 'ch', 'data'] = [6.4285e-01,6.7013e-01,1.7585e-07,1.3807e-05,5.5722e-01]\n",
      "  Weight     ['ic', 'bc', 'ac', 'ch', 'data'] = [3.0457e+00,2.9751e+00,7.5473e+05,9.8819e+03,2.9812e+00]\n",
      "Step 2000: total_loss = 1.5610e+00\n",
      "  Loss  ['ic', 'bc', 'ac', 'ch', 'data'] = [1.1847e-05,1.4476e-06,1.6266e-12,2.6493e-03,1.6762e-03]\n",
      "  Weight     ['ic', 'bc', 'ac', 'ch', 'data'] = [8.5417e+02,9.0139e+02,5.6851e+09,1.0034e+00,9.1739e+02]\n",
      "Step 4000: total_loss = 2.4445e-01\n",
      "  Loss  ['ic', 'bc', 'ac', 'ch', 'data'] = [7.4282e-06,5.0998e-07,1.0880e-12,2.2894e-03,7.6056e-04]\n",
      "  Weight     ['ic', 'bc', 'ac', 'ch', 'data'] = [2.8953e+02,3.2748e+02,2.9651e+09,1.0098e+00,3.1108e+02]\n",
      "Step 6000: total_loss = 2.5305e-01\n",
      "  Loss  ['ic', 'bc', 'ac', 'ch', 'data'] = [6.6815e-06,3.1759e-07,8.5634e-13,2.2355e-03,2.7507e-04]\n",
      "  Weight     ['ic', 'bc', 'ac', 'ch', 'data'] = [7.7434e+02,8.1334e+02,5.6439e+09,1.0037e+00,8.7447e+02]\n",
      "Step 8000: total_loss = 2.2659e-01\n",
      "  Loss  ['ic', 'bc', 'ac', 'ch', 'data'] = [5.9780e-06,2.2817e-07,6.7171e-13,1.9552e-03,3.1301e-04]\n",
      "  Weight     ['ic', 'bc', 'ac', 'ch', 'data'] = [6.2989e+02,7.4285e+02,5.9879e+09,1.0044e+00,6.9221e+02]\n",
      "Step 10000: total_loss = 2.4473e-01\n",
      "  Loss  ['ic', 'bc', 'ac', 'ch', 'data'] = [4.3124e-06,1.4476e-07,6.8326e-13,2.2819e-03,7.7290e-04]\n",
      "  Weight     ['ic', 'bc', 'ac', 'ch', 'data'] = [3.0415e+02,3.4940e+02,3.6132e+09,1.0095e+00,3.0870e+02]\n",
      "The training time is 2.25 minutes\n"
     ]
    }
   ],
   "source": [
    "start = time.time()\n",
    "final_carry, loss_history = jax.lax.scan(train_step, init, xs=None, length=total_step + 1)\n",
    "end = time.time()\n",
    "print(f\"The training time is {(end-start)/60:.2f} minutes\")"
   ]
  },
  {
   "cell_type": "code",
   "execution_count": 15,
   "id": "536b236b-e8bb-4be2-b666-964d72d09178",
   "metadata": {},
   "outputs": [],
   "source": [
    "_,_,_,_,_,_,best_loss,best_params = final_carry\n",
    "idx = 127\n",
    "x = map_span(pde.x, params0[\"x_range\"], (-0.5,0.5))\n",
    "t = map_span(pde.t_eval[idx],params0[\"t_range\"], (0,1))\n",
    "model_best = eqx.combine(best_params, static)\n",
    "P_pred, C_pred = model_best(x,t)"
   ]
  },
  {
   "cell_type": "code",
   "execution_count": 16,
   "id": "4dc2768b-eb11-4a7c-8bec-feb9397925a7",
   "metadata": {},
   "outputs": [
    {
     "data": {
      "image/png": "[encoded data removed]",
      "text/plain": [
       "<Figure size 1400x500 with 2 Axes>"
      ]
     },
     "metadata": {},
     "output_type": "display_data"
    }
   ],
   "source": [
    "fig, axes = plt.subplots(1, 2, figsize=(14, 5))  # 1 row, 2 columns\n",
    "\n",
    "# Plot P_pred on the first subplot\n",
    "axes[0].plot(x, P_pred, label=\"Prediction\")\n",
    "axes[0].plot(x, phi_out[idx, :], label=\"Ground Truth\")\n",
    "axes[0].set_title(\"P_pred\")\n",
    "axes[0].set_xlabel(\"Step\")\n",
    "axes[0].set_ylabel(\"Value\")\n",
    "axes[0].grid(True, linestyle=\"--\", alpha=0.5)\n",
    "axes[0].legend()  # show labels\n",
    "\n",
    "# Plot C_pred on the second subplot\n",
    "axes[1].plot(x, C_pred, label=\"Prediction\")\n",
    "axes[1].plot(x, c_out[idx, :], label=\"Ground Truth\")\n",
    "axes[1].set_title(\"C_pred\")\n",
    "axes[1].set_xlabel(\"Step\")\n",
    "axes[1].set_ylabel(\"Value\")\n",
    "axes[1].grid(True, linestyle=\"--\", alpha=0.5)\n",
    "axes[1].legend()  # show labels\n",
    "\n",
    "plt.tight_layout()\n",
    "plt.show()"
   ]
  },
  {
   "cell_type": "code",
   "execution_count": null,
   "id": "b8a755a8-e249-4cb9-a6a9-a698a92a1450",
   "metadata": {},
   "outputs": [],
   "source": []
  }
 ],
 "metadata": {
  "kernelspec": {
   "display_name": "Python 3 (ipykernel)",
   "language": "python",
   "name": "python3"
  },
  "language_info": {
   "codemirror_mode": {
    "name": "ipython",
    "version": 3
   },
   "file_extension": ".py",
   "mimetype": "text/x-python",
   "name": "python",
   "nbconvert_exporter": "python",
   "pygments_lexer": "ipython3",
   "version": "3.10.13"
  }
 },
 "nbformat": 4,
 "nbformat_minor": 5
}
