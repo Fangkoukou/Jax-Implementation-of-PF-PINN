{
 "cells": [
  {
   "cell_type": "code",
   "execution_count": 1,
   "id": "a8d74bf5-98c6-4715-b6f2-37937c8a2b8a",
   "metadata": {},
   "outputs": [
    {
     "name": "stdout",
     "output_type": "stream",
     "text": [
      "env: XLA_PYTHON_CLIENT_ALLOCATOR=platform\n"
     ]
    }
   ],
   "source": [
    "%env XLA_PYTHON_CLIENT_ALLOCATOR=platform"
   ]
  },
  {
   "cell_type": "code",
   "execution_count": 2,
   "id": "c76a6860-b73b-4d31-90d0-7cf9de504801",
   "metadata": {},
   "outputs": [],
   "source": [
    "import jax\n",
    "import optax\n",
    "import equinox as eqx\n",
    "import matplotlib.pyplot as plt\n",
    "\n",
    "from jax import numpy as jnp, random, config\n",
    "from model import PINN\n",
    "from pdekernel import PDEKernel\n",
    "from derivative import Derivative\n",
    "from residual import Residual\n",
    "from sampler import Sampler\n",
    "\n",
    "key = random.PRNGKey(1312)\n",
    "key, subkey = random.split(key)"
   ]
  },
  {
   "cell_type": "code",
   "execution_count": 3,
   "id": "ec028cbc-5a50-473f-888c-7656ee8aa238",
   "metadata": {},
   "outputs": [
    {
     "name": "stdout",
     "output_type": "stream",
     "text": [
      "[0.16686788 0.06698012 0.36686788 0.         0.86698012]\n",
      "[0.20649349 0.08812114 0.40649349 0.         0.88812114]\n",
      "[0.20649349 0.08812114 0.40649349 0.         0.88812114]\n"
     ]
    }
   ],
   "source": [
    "s = Sampler()\n",
    "x = s.get_sample(key,[5,5,5],[(0,0),(-0.5,0.5),(0,1)])\n",
    "t = s.get_sample(subkey, [5,5,5],[(0,0),(-0.5,0.5),(0,1)])\n",
    "y = s.get_sample(subkey, [5,5,5],[(0,0),(-0.5,0.5),(0,1)])\n",
    "x_sub,t_sub,y_sub = s.subsample(key,5,x,t,y)\n",
    "print(x_sub)\n",
    "print(t_sub)\n",
    "print(y_sub)\n",
    "inp_ic = {'x':x, 't':t}\n",
    "inp_bc = {'x':x, 't':t}\n",
    "inp_colloc = {'x':x, 't':t}\n",
    "inp_data = {'x':x, 't':t, 'phi':y, 'c':y}\n",
    "inp = {'ic': inp_ic, 'bc':inp_bc, 'colloc':inp_colloc, 'data':inp_data}"
   ]
  },
  {
   "cell_type": "code",
   "execution_count": 4,
   "id": "d7376835-71fc-443c-8aa5-b3e4f6eaab43",
   "metadata": {},
   "outputs": [],
   "source": [
    "# set up the dimensionless PDE\n",
    "params = {\n",
    "    \"alpha_phi\": 9.62e-5,\n",
    "    \"omega_phi\": 1.663e7,\n",
    "    \"A\": 5.35e7,\n",
    "    \"c_se\": 1.0,\n",
    "    \"c_le\": 5100/1.43e5,\n",
    "    \"x_range_phys\": (-50e-6, 50e-6),\n",
    "    \"t_range_phys\": (0, 1e5),\n",
    "    \"L\": 1e-11,\n",
    "    \"M\": jnp.float64(8.5e-10) / (2 * jnp.float64(5.35e7)),\n",
    "    \"dc\": 1.0-5100/1.43e5\n",
    "}\n",
    "pdekernel = PDEKernel(params)"
   ]
  },
  {
   "cell_type": "code",
   "execution_count": 5,
   "id": "87a226d2-8257-4820-8bbe-08ecd232b1b7",
   "metadata": {},
   "outputs": [
    {
     "name": "stdout",
     "output_type": "stream",
     "text": [
      "test scalar\n",
      "(Array(0.09886375, dtype=float64), Array(-0.2572521, dtype=float64))\n",
      "------------------------\n",
      "test batched\n",
      "(Array([0.17734853, 0.17461186, 0.17081278, 0.16607631, 0.16056868],      dtype=float64), Array([-0.36224114, -0.35612096, -0.34941203, -0.34216648, -0.33446341],      dtype=float64))\n"
     ]
    }
   ],
   "source": [
    "# set up the model\n",
    "inp_idx = {'x':0, 't':1}\n",
    "out_idx = {'phi':0, 'c':0}\n",
    "width = 16\n",
    "depth = 4\n",
    "model = PINN(inp_idx, out_idx, width, depth)\n",
    "x_arr = jnp.arange(5)/10\n",
    "t_arr = jnp.arange(5)/10\n",
    "\"\"\" \n",
    "Note that model accepts three inputs x,t,M\n",
    "- x,t must have matching dimensions (either scalar or 1D array)\n",
    "- M is always a scalar\n",
    "\"\"\"\n",
    "print(\"test scalar\")\n",
    "print(model(1,2))\n",
    "print(\"------------------------\")\n",
    "print(\"test batched\")\n",
    "print(model(x_arr,t_arr))"
   ]
  },
  {
   "cell_type": "code",
   "execution_count": 6,
   "id": "c217ebd9-2e5c-4cec-94cc-b44eb2c30f65",
   "metadata": {},
   "outputs": [
    {
     "name": "stdout",
     "output_type": "stream",
     "text": [
      "test evaluate\n",
      "{'phi_t': Array(-1.57404653e-07, dtype=float64), 'c_2x': Array(-3074163.98140331, dtype=float64)}\n",
      "{'phi_t': Array([-1.00226367e-07, -1.57404653e-07, -2.10276336e-07, -2.56133905e-07,\n",
      "       -2.92842793e-07], dtype=float64), 'c_2x': Array([-3361116.06241818, -3074163.98140332, -2672613.92849501,\n",
      "       -2191974.2743584 , -1671860.94259358], dtype=float64)}\n"
     ]
    }
   ],
   "source": [
    "# set up the derivataive\n",
    "phys_span = {'x':pdekernel.x_range_phys, 't':pdekernel.t_range_phys} # the physical span is now a dimensionless span\n",
    "norm_span = {'x':(-0.5,0.5), 't':(0,1)}\n",
    "d = Derivative(inp_idx, out_idx, phys_span, norm_span)\n",
    "d.create_deriv_fn('phi_t')\n",
    "d.create_deriv_fn('phi_x')\n",
    "d.create_deriv_fn('phi_2x')\n",
    "d.create_deriv_fn('c_t')\n",
    "d.create_deriv_fn('c_x')\n",
    "d.create_deriv_fn('c_2x')\n",
    "print(\"test evaluate\")\n",
    "print(d.evaluate(model,0.1,0.1,function_names = ['phi_t','c_2x']))\n",
    "print(d.evaluate(model,x_arr,t_arr,function_names = ['phi_t','c_2x']))"
   ]
  },
  {
   "cell_type": "code",
   "execution_count": 7,
   "id": "a29754de-3565-4cb4-8935-441b64417cb2",
   "metadata": {},
   "outputs": [
    {
     "name": "stdout",
     "output_type": "stream",
     "text": [
      "test res_ic\n",
      "{'ic': Array([-0.32265147, -0.32265147, -0.32265147, -0.32265147, -0.32265147,\n",
      "       -0.82323762, -0.82059647, -0.6975871 ,  0.17133518,  0.16133215,\n",
      "        0.15622898,  0.16721631,  0.15588142,  0.14287816,  0.12976466,\n",
      "       -0.32265147, -0.32265147, -0.32265147, -0.32265147, -0.32265147,\n",
      "       -0.82323762, -0.82059759, -0.779534  ,  0.17138997,  0.16133215,\n",
      "        0.17425489,  0.16721647,  0.15588142,  0.14287816,  0.12976466],      dtype=float64)}\n",
      "--------------------------------\n",
      "test res_bc\n",
      "{'bc': Array([ 0.17734853,  0.17734853,  0.17734853,  0.17734853,  0.17734853,\n",
      "       -0.82323762, -0.82059759, -0.82234213,  0.17138998,  0.16133215,\n",
      "        0.17533619,  0.16721647,  0.15588142,  0.14287816,  0.12976466,\n",
      "        0.17734853,  0.17734853,  0.17734853,  0.17734853,  0.17734853,\n",
      "       -0.82323762, -0.82059759, -0.82234213,  0.17138998,  0.16133215,\n",
      "        0.17533619,  0.16721647,  0.15588142,  0.14287816,  0.12976466],      dtype=float64)}\n",
      "--------------------------------\n",
      "test res_phys\n",
      "{'ac_pde': Array([-2.42883211e-05, -2.42883211e-05, -2.42883211e-05, -2.42883211e-05,\n",
      "       -2.42883211e-05, -2.38689363e-05, -2.48727397e-05, -2.43898848e-05,\n",
      "       -2.23137599e-05, -1.87842232e-05, -2.36376077e-05, -2.08691759e-05,\n",
      "       -1.68112721e-05, -1.20221761e-05, -7.18915025e-06], dtype=float64), 'ch_pde': Array([0.00048888, 0.00048888, 0.00048888, 0.00048888, 0.00048888,\n",
      "       0.00045068, 0.00044305, 0.0004871 , 0.00056473, 0.00060076,\n",
      "       0.00052042, 0.00058905, 0.00058032, 0.00045564, 0.00024743],      dtype=float64)}\n",
      "--------------------------------\n",
      "test res_data\n",
      "{'data': Array([ 0.17734853,  0.17734853,  0.17734853,  0.17734853,  0.17734853,\n",
      "        0.57026889,  0.37290893,  0.17116438, -0.03510351, -0.24516133,\n",
      "        0.08721506, -0.12090467, -0.33223972, -0.54524297, -0.75835647,\n",
      "        0.17734853,  0.17734853,  0.17734853,  0.17734853,  0.17734853,\n",
      "        0.57026889,  0.37290893,  0.17116438, -0.03510351, -0.24516133,\n",
      "        0.08721506, -0.12090467, -0.33223972, -0.54524297, -0.75835647],      dtype=float64)}\n"
     ]
    }
   ],
   "source": [
    "# set up the residual\n",
    "r = Residual(phys_span, norm_span, pdekernel, d)\n",
    "print(\"test res_ic\")\n",
    "print(r.res_ic(model,inp['ic']))\n",
    "print(\"--------------------------------\")\n",
    "print(\"test res_bc\")\n",
    "print(r.res_bc(model,inp['bc']))\n",
    "print(\"--------------------------------\")\n",
    "print(\"test res_phys\")\n",
    "print(r.res_phys(model,inp['colloc']))\n",
    "print(\"--------------------------------\")\n",
    "print(\"test res_data\")\n",
    "print(r.res_data(model,inp['data']))"
   ]
  },
  {
   "cell_type": "code",
   "execution_count": 8,
   "id": "372e39c9-3ffa-4aca-afe5-d71a97af2585",
   "metadata": {},
   "outputs": [
    {
     "data": {
      "text/plain": [
       "{'ic': Array(3.00004629, dtype=float64),\n",
       " 'bc': Array(3.00004629, dtype=float64),\n",
       " 'ac': Array(48450776.86323194, dtype=float64),\n",
       " 'ch': Array(64901.55268937, dtype=float64),\n",
       " 'data': Array(3.00004629, dtype=float64)}"
      ]
     },
     "execution_count": 8,
     "metadata": {},
     "output_type": "execute_result"
    }
   ],
   "source": [
    "r.compute_ntk_weights(model, inp, batch_size=2)"
   ]
  },
  {
   "cell_type": "code",
   "execution_count": null,
   "id": "7e545e1b-214e-4e81-b7ce-24462b959159",
   "metadata": {},
   "outputs": [],
   "source": []
  }
 ],
 "metadata": {
  "kernelspec": {
   "display_name": "Python 3 (ipykernel)",
   "language": "python",
   "name": "python3"
  },
  "language_info": {
   "codemirror_mode": {
    "name": "ipython",
    "version": 3
   },
   "file_extension": ".py",
   "mimetype": "text/x-python",
   "name": "python",
   "nbconvert_exporter": "python",
   "pygments_lexer": "ipython3",
   "version": "3.10.13"
  }
 },
 "nbformat": 4,
 "nbformat_minor": 5
}
