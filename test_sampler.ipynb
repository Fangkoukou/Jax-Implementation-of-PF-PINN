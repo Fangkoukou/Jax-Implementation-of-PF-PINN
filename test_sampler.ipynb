{
 "cells": [
  {
   "cell_type": "code",
   "execution_count": 1,
   "id": "3e469373-e973-406b-b5f1-104740f87fa6",
   "metadata": {},
   "outputs": [],
   "source": [
    "import jax\n",
    "import jax.numpy as jnp\n",
    "from jax import config\n",
    "config.update(\"jax_enable_x64\", True)\n",
    "from sampler import *\n",
    "from params import *\n",
    "key = jax.random.PRNGKey(123)\n",
    "from model import *\n",
    "model = PINN(key)\n",
    "from model import *\n",
    "from pde import *\n",
    "from derivative import *\n",
    "from residual import *\n",
    "from params import *"
   ]
  },
  {
   "cell_type": "code",
   "execution_count": 3,
   "id": "35052d7b-c5b8-400a-b18b-c691b7836ad9",
   "metadata": {},
   "outputs": [],
   "source": [
    "key = jax.random.PRNGKey(123)\n",
    "model = PINN(key)\n",
    "derivative = Derivative(x_coef,t_coef)\n",
    "pde = PDE(\n",
    "    alpha_phi=alpha_phi,\n",
    "    omega_phi=omega_phi,\n",
    "    M=M,\n",
    "    A=A,\n",
    "    L=L,\n",
    "    c_se=c_se,\n",
    "    c_le=c_le,\n",
    ")\n",
    "r = Residual(x_coef,t_coef,pde,derivative)"
   ]
  },
  {
   "cell_type": "code",
   "execution_count": 4,
   "id": "387acb2f-dc77-4337-9ec5-fbd61c3b4549",
   "metadata": {},
   "outputs": [],
   "source": [
    "# construct the sampler\n",
    "sample_size = {'ic': 8, 'bc': 6, 'colloc_x': 5, 'colloc_t': 5, 'adapt': 10}\n",
    "subsample_size = {'ic': 4, 'bc': 3, 'colloc': 6, 'adapt': 5}\n",
    "noise = 0.5\n",
    "sampler = Sampler(x_span, t_span, sample_size, subsample_size, r, noise)"
   ]
  },
  {
   "cell_type": "code",
   "execution_count": 5,
   "id": "c679afb4-3790-4289-b693-ce8bd2e2ad4c",
   "metadata": {},
   "outputs": [
    {
     "name": "stdout",
     "output_type": "stream",
     "text": [
      "Denormalize 0.5 in (0,10): 5.0\n"
     ]
    }
   ],
   "source": [
    "# Test _denormalize\n",
    "print(\"Denormalize 0.5 in (0,10):\", sampler._denormalize(0.5, (0, 10)))"
   ]
  },
  {
   "cell_type": "code",
   "execution_count": 6,
   "id": "5411b539-4f28-41cb-989a-ff191542f389",
   "metadata": {},
   "outputs": [
    {
     "name": "stdout",
     "output_type": "stream",
     "text": [
      "LHS samples (dim=1): [0.7288015  0.05534138 0.33729004 0.59948698 0.89211653]\n"
     ]
    }
   ],
   "source": [
    "# Test _lhs\n",
    "lhs_samples = sampler._lhs(key, dim=1, num=5)\n",
    "print(\"LHS samples (dim=1):\", lhs_samples)"
   ]
  },
  {
   "cell_type": "code",
   "execution_count": 7,
   "id": "1a2dcda3-5f2f-49db-ae60-521f636acfe9",
   "metadata": {},
   "outputs": [
    {
     "name": "stdout",
     "output_type": "stream",
     "text": [
      "LHS samples (dim=2): (Array([0.7288015 , 0.05534138, 0.33729004, 0.59948698, 0.89211653],      dtype=float64), Array([0.44926569, 0.13196439, 0.94082043, 0.75244268, 0.21987435],      dtype=float64))\n"
     ]
    }
   ],
   "source": [
    "lhs_samples_2d = sampler._lhs(key, dim=2, num=5)\n",
    "print(\"LHS samples (dim=2):\", lhs_samples_2d)"
   ]
  },
  {
   "cell_type": "code",
   "execution_count": 8,
   "id": "c51ec028-f3ef-4426-a8c9-6df571470955",
   "metadata": {},
   "outputs": [
    {
     "name": "stdout",
     "output_type": "stream",
     "text": [
      "Uniform grid: [0.02821268 0.22821268 0.42821268 0.62821268 0.82821268]\n"
     ]
    }
   ],
   "source": [
    "# Test _make_uniform_grid\n",
    "uniform_grid = sampler._make_uniform_grid(key, 5, (0, 1))\n",
    "print(\"Uniform grid:\", uniform_grid)"
   ]
  },
  {
   "cell_type": "code",
   "execution_count": 9,
   "id": "ff967fb0-a801-4422-a5a0-01d63badd054",
   "metadata": {},
   "outputs": [
    {
     "name": "stdout",
     "output_type": "stream",
     "text": [
      "IC x: [-0.45485972 -0.25485972 -0.07742986  0.02257014  0.14514028  0.34514028]\n",
      "IC t: [0. 0. 0. 0. 0. 0.]\n"
     ]
    }
   ],
   "source": [
    "# Test _get_ic\n",
    "x_ic, t_ic = sampler._get_ic(key)\n",
    "print(\"IC x:\", x_ic)\n",
    "print(\"IC t:\", t_ic)"
   ]
  },
  {
   "cell_type": "code",
   "execution_count": 10,
   "id": "72cb097a-58d0-471d-94e9-8a4f94dfe9a6",
   "metadata": {},
   "outputs": [
    {
     "name": "stdout",
     "output_type": "stream",
     "text": [
      "BC x: [-0.5 -0.5 -0.5  0.5  0.5  0.5]\n",
      "BC t: [0.05642535 0.38975869 0.72309202 0.05642535 0.38975869 0.72309202]\n"
     ]
    }
   ],
   "source": [
    "# Test _get_bc\n",
    "x_bc, t_bc = sampler._get_bc(key)\n",
    "print(\"BC x:\", x_bc)\n",
    "print(\"BC t:\", t_bc)"
   ]
  },
  {
   "cell_type": "code",
   "execution_count": 11,
   "id": "30027863-a5d5-4789-991a-3ec47a688ebb",
   "metadata": {},
   "outputs": [
    {
     "name": "stdout",
     "output_type": "stream",
     "text": [
      "Colloc x: [-0.41949907 -0.41949907 -0.41949907 -0.41949907 -0.41949907 -0.21949907\n",
      " -0.21949907 -0.21949907 -0.21949907 -0.21949907 -0.01949907 -0.01949907\n",
      " -0.01949907 -0.01949907 -0.01949907  0.18050093  0.18050093  0.18050093\n",
      "  0.18050093  0.18050093  0.38050093  0.38050093  0.38050093  0.38050093\n",
      "  0.38050093]\n",
      "Colloc t: [0.03079106 0.23079106 0.43079106 0.63079106 0.83079106 0.03079106\n",
      " 0.23079106 0.43079106 0.63079106 0.83079106 0.03079106 0.23079106\n",
      " 0.43079106 0.63079106 0.83079106 0.03079106 0.23079106 0.43079106\n",
      " 0.63079106 0.83079106 0.03079106 0.23079106 0.43079106 0.63079106\n",
      " 0.83079106]\n"
     ]
    }
   ],
   "source": [
    "# Test _get_colloc\n",
    "x_colloc, t_colloc = sampler._get_colloc(key)\n",
    "print(\"Colloc x:\", x_colloc)\n",
    "print(\"Colloc t:\", t_colloc)"
   ]
  },
  {
   "cell_type": "code",
   "execution_count": 12,
   "id": "bf732219-11e5-4fd9-9255-1458f20b9835",
   "metadata": {},
   "outputs": [
    {
     "name": "stdout",
     "output_type": "stream",
     "text": [
      "[0.97936736 0.84199366 0.94507517 0.833729   0.81488725 0.64815095\n",
      " 0.62921165 0.73948772 0.833729   0.81488725]\n",
      "[0.08104491 0.02684082 0.31918632 0.17408204 0.28214012 0.11166575\n",
      " 0.12198744 0.27993646 0.17408204 0.28214012]\n"
     ]
    }
   ],
   "source": [
    "x_adapt, t_adapt = sampler._get_adapt(key, model)\n",
    "print(x_adapt)\n",
    "print(t_adapt)"
   ]
  },
  {
   "cell_type": "code",
   "execution_count": 13,
   "id": "7225515c-ee47-4b38-862d-ed6871c1a08b",
   "metadata": {},
   "outputs": [
    {
     "name": "stdout",
     "output_type": "stream",
     "text": [
      "Sample keys: dict_keys(['ic', 'bc', 'colloc', 'adapt'])\n",
      "ic x shape: (6,), t shape: (6,)\n",
      "bc x shape: (6,), t shape: (6,)\n",
      "colloc x shape: (25,), t shape: (25,)\n",
      "adapt x shape: (10,), t shape: (10,)\n"
     ]
    }
   ],
   "source": [
    "# Test get_sample\n",
    "x_sample, t_sample = sampler.get_sample(key, model)\n",
    "print(\"Sample keys:\", x_sample.keys())\n",
    "for k in x_sample:\n",
    "    print(f\"{k} x shape: {x_sample[k].shape}, t shape: {t_sample[k].shape}\")"
   ]
  },
  {
   "cell_type": "code",
   "execution_count": 14,
   "id": "06dd0677-cc89-4aa8-83df-c13504ca9d99",
   "metadata": {},
   "outputs": [
    {
     "name": "stdout",
     "output_type": "stream",
     "text": [
      "Subsample ic x shape: (4,), t shape: (4,)\n",
      "Subsample bc x shape: (3,), t shape: (3,)\n",
      "Subsample colloc x shape: (6,), t shape: (6,)\n",
      "Subsample adapt x shape: (5,), t shape: (5,)\n"
     ]
    }
   ],
   "source": [
    "# Test get_subsample\n",
    "x_subsample, t_subsample = sampler.get_subsample(key, x_sample, t_sample)\n",
    "for k in x_subsample:\n",
    "    print(f\"Subsample {k} x shape: {x_subsample[k].shape}, t shape: {t_subsample[k].shape}\")"
   ]
  },
  {
   "cell_type": "code",
   "execution_count": null,
   "id": "500f177e-6dc7-47c2-9000-6079651798dd",
   "metadata": {},
   "outputs": [],
   "source": []
  }
 ],
 "metadata": {
  "kernelspec": {
   "display_name": "Python 3 (ipykernel)",
   "language": "python",
   "name": "python3"
  },
  "language_info": {
   "codemirror_mode": {
    "name": "ipython",
    "version": 3
   },
   "file_extension": ".py",
   "mimetype": "text/x-python",
   "name": "python",
   "nbconvert_exporter": "python",
   "pygments_lexer": "ipython3",
   "version": "3.10.18"
  }
 },
 "nbformat": 4,
 "nbformat_minor": 5
}
